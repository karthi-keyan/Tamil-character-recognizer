{
 "cells": [
  {
   "cell_type": "markdown",
   "metadata": {},
   "source": [
    "Importing dependencies..."
   ]
  },
  {
   "cell_type": "code",
   "execution_count": 1,
   "metadata": {},
   "outputs": [
    {
     "name": "stderr",
     "output_type": "stream",
     "text": [
      "C:\\Users\\karthi\\Anaconda3\\lib\\site-packages\\h5py\\__init__.py:34: FutureWarning: Conversion of the second argument of issubdtype from `float` to `np.floating` is deprecated. In future, it will be treated as `np.float64 == np.dtype(float).type`.\n",
      "  from ._conv import register_converters as _register_converters\n"
     ]
    }
   ],
   "source": [
    "import numpy as np\n",
    "import os\n",
    "import matplotlib.pyplot as plt \n",
    "import cv2\n",
    "import tensorflow as tf"
   ]
  },
  {
   "cell_type": "markdown",
   "metadata": {},
   "source": [
    "creating the class labels and path defining..."
   ]
  },
  {
   "cell_type": "code",
   "execution_count": 2,
   "metadata": {
    "collapsed": true
   },
   "outputs": [],
   "source": [
    "os.chdir(\"dataset path\")        #set path\n",
    "letters_data=os.listdir()  \t\t\t\t\t\t\t       #list the files in the directory\n",
    "classes={'00':0,           \t\t\t\t\t\t\t       #defining class for different letters\n",
    "         '01':1,\n",
    "         '02':2,\n",
    "         '03':3,\n",
    "         '04':4,\n",
    "         '05':5,\n",
    "         '06':6, \n",
    "         '07':7,\n",
    "         '08':8,\n",
    "         '09':9,\n",
    "         '10':10}"
   ]
  },
  {
   "cell_type": "markdown",
   "metadata": {},
   "source": [
    "Preprocessing step..."
   ]
  },
  {
   "cell_type": "code",
   "execution_count": 3,
   "metadata": {
    "collapsed": true
   },
   "outputs": [],
   "source": [
    "data=[]\n",
    "for i,each in enumerate(letters_data):\n",
    "    arr=np.zeros(11)\n",
    "    image=cv2.imread(each)\t                                #reading the file\n",
    "    image=cv2.cvtColor(image,cv2.COLOR_RGB2GRAY)/255        #converting image to grayscale\n",
    "    image=cv2.resize(image,(160,160))\t\t\t\t        #resize all the image\t\t\t \n",
    "    arr[classes[each[5:7]]]=1                               #one hot encoding\n",
    "    data.append([np.array(image).reshape(160,160,1),arr])   #saving the image array and its class"
   ]
  },
  {
   "cell_type": "markdown",
   "metadata": {},
   "source": [
    "Splitting training and testing data... "
   ]
  },
  {
   "cell_type": "code",
   "execution_count": 4,
   "metadata": {},
   "outputs": [
    {
     "name": "stdout",
     "output_type": "stream",
     "text": [
      "preprocess completed...\n"
     ]
    }
   ],
   "source": [
    "x,y=zip(*data)\n",
    "train_data=test_data=x\n",
    "train_label=test_label=y\n",
    "print(\"preprocess completed...\")"
   ]
  },
  {
   "cell_type": "markdown",
   "metadata": {},
   "source": [
    "Visualize the image..."
   ]
  },
  {
   "cell_type": "code",
   "execution_count": 5,
   "metadata": {},
   "outputs": [
    {
     "data": {
      "image/png": "[encoded data removed]",
      "text/plain": [
       "<matplotlib.figure.Figure at 0x20d3a3ef8d0>"
      ]
     },
     "metadata": {},
     "output_type": "display_data"
    },
    {
     "name": "stdout",
     "output_type": "stream",
     "text": [
      "[1. 0. 0. 0. 0. 0. 0. 0. 0. 0. 0.]\n"
     ]
    }
   ],
   "source": [
    "plt.imshow(train_data[5].reshape(160,160))\n",
    "plt.show()\n",
    "print(train_label[5])"
   ]
  },
  {
   "cell_type": "markdown",
   "metadata": {},
   "source": [
    "Defining the convolution neural network model..."
   ]
  },
  {
   "cell_type": "code",
   "execution_count": 6,
   "metadata": {},
   "outputs": [
    {
     "name": "stdout",
     "output_type": "stream",
     "text": [
      "_________________________________________________________________\n",
      "Layer (type)                 Output Shape              Param #   \n",
      "=================================================================\n",
      "conv2d (Conv2D)              (None, 160, 160, 32)      832       \n",
      "_________________________________________________________________\n",
      "max_pooling2d (MaxPooling2D) (None, 80, 80, 32)        0         \n",
      "_________________________________________________________________\n",
      "dropout (Dropout)            (None, 80, 80, 32)        0         \n",
      "_________________________________________________________________\n",
      "conv2d_1 (Conv2D)            (None, 80, 80, 64)        51264     \n",
      "_________________________________________________________________\n",
      "max_pooling2d_1 (MaxPooling2 (None, 40, 40, 64)        0         \n",
      "_________________________________________________________________\n",
      "conv2d_2 (Conv2D)            (None, 40, 40, 128)       204928    \n",
      "_________________________________________________________________\n",
      "max_pooling2d_2 (MaxPooling2 (None, 20, 20, 128)       0         \n",
      "_________________________________________________________________\n",
      "flatten (Flatten)            (None, 51200)             0         \n",
      "_________________________________________________________________\n",
      "dense (Dense)                (None, 256)               13107456  \n",
      "_________________________________________________________________\n",
      "dropout_1 (Dropout)          (None, 256)               0         \n",
      "_________________________________________________________________\n",
      "dense_1 (Dense)              (None, 11)                2827      \n",
      "=================================================================\n",
      "Total params: 13,367,307\n",
      "Trainable params: 13,367,307\n",
      "Non-trainable params: 0\n",
      "_________________________________________________________________\n"
     ]
    }
   ],
   "source": [
    "model = tf.keras.Sequential()\n",
    "model.add(tf.keras.layers.Conv2D(filters=32, kernel_size=5,\n",
    "          padding='same', activation='relu',input_shape=(160,160,1)))\n",
    "model.add(tf.keras.layers.MaxPooling2D(pool_size=2))\n",
    "model.add(tf.keras.layers.Dropout(0.3))\n",
    "model.add(tf.keras.layers.Conv2D(filters=64, kernel_size=5, \n",
    "          padding='same', activation='relu'))\n",
    "model.add(tf.keras.layers.MaxPooling2D(pool_size=2))\n",
    "model.add(tf.keras.layers.Conv2D(filters=128, kernel_size=5, \n",
    "          padding='same', activation='relu'))\n",
    "model.add(tf.keras.layers.MaxPooling2D(pool_size=2))\n",
    "model.add(tf.keras.layers.Flatten())\n",
    "model.add(tf.keras.layers.Dense(256, activation='sigmoid')) \n",
    "model.add(tf.keras.layers.Dropout(0.5))\n",
    "model.add(tf.keras.layers.Dense(11, activation='softmax'))\n",
    "model.summary()"
   ]
  },
  {
   "cell_type": "markdown",
   "metadata": {},
   "source": [
    "defining loss and optimizer functions..."
   ]
  },
  {
   "cell_type": "code",
   "execution_count": 7,
   "metadata": {
    "collapsed": true
   },
   "outputs": [],
   "source": [
    "model.compile(loss='categorical_crossentropy',\n",
    "             optimizer='adam',                                     #defining loss function and optimiser function\n",
    "             metrics=['accuracy'])"
   ]
  },
  {
   "cell_type": "markdown",
   "metadata": {},
   "source": [
    "Fitting the train and test data..."
   ]
  },
  {
   "cell_type": "code",
   "execution_count": 8,
   "metadata": {},
   "outputs": [
    {
     "name": "stdout",
     "output_type": "stream",
     "text": [
      "Train on 110 samples, validate on 110 samples\n",
      "Epoch 1/15\n",
      "110/110 [==============================] - 76s 688ms/step - loss: 3.1037 - acc: 0.0818 - val_loss: 2.4946 - val_acc: 0.0909\n",
      "Epoch 2/15\n",
      "110/110 [==============================] - 28s 257ms/step - loss: 2.7016 - acc: 0.1000 - val_loss: 2.4224 - val_acc: 0.0909\n",
      "Epoch 3/15\n",
      "110/110 [==============================] - 22s 199ms/step - loss: 2.5969 - acc: 0.0909 - val_loss: 2.3812 - val_acc: 0.0909\n",
      "Epoch 4/15\n",
      "110/110 [==============================] - 21s 191ms/step - loss: 2.5246 - acc: 0.0727 - val_loss: 2.3192 - val_acc: 0.1182\n",
      "Epoch 5/15\n",
      "110/110 [==============================] - 20s 181ms/step - loss: 2.4433 - acc: 0.0727 - val_loss: 2.0830 - val_acc: 0.4000\n",
      "Epoch 6/15\n",
      "110/110 [==============================] - 23s 210ms/step - loss: 1.9851 - acc: 0.3273 - val_loss: 1.3081 - val_acc: 0.9182\n",
      "Epoch 7/15\n",
      "110/110 [==============================] - 22s 199ms/step - loss: 1.1012 - acc: 0.8000 - val_loss: 0.3651 - val_acc: 0.9636\n",
      "Epoch 8/15\n",
      "110/110 [==============================] - 22s 202ms/step - loss: 0.2785 - acc: 0.9636 - val_loss: 0.1098 - val_acc: 0.9727\n",
      "Epoch 9/15\n",
      "110/110 [==============================] - 23s 207ms/step - loss: 0.1491 - acc: 0.9727 - val_loss: 0.0577 - val_acc: 1.0000\n",
      "Epoch 10/15\n",
      "110/110 [==============================] - 24s 217ms/step - loss: 0.0688 - acc: 1.0000 - val_loss: 0.0407 - val_acc: 1.0000\n",
      "Epoch 11/15\n",
      "110/110 [==============================] - ETA: 3s - loss: 0.0762 - acc: 0.988 - 24s 221ms/step - loss: 0.0777 - acc: 0.9909 - val_loss: 0.0325 - val_acc: 1.0000\n",
      "Epoch 12/15\n",
      "110/110 [==============================] - 23s 211ms/step - loss: 0.0608 - acc: 1.0000 - val_loss: 0.0235 - val_acc: 1.0000\n",
      "Epoch 13/15\n",
      "110/110 [==============================] - 24s 220ms/step - loss: 0.0367 - acc: 1.0000 - val_loss: 0.0198 - val_acc: 1.0000\n",
      "Epoch 14/15\n",
      "110/110 [==============================] - 23s 207ms/step - loss: 0.0403 - acc: 0.9909 - val_loss: 0.0157 - val_acc: 1.0000\n",
      "Epoch 15/15\n",
      "110/110 [==============================] - 23s 212ms/step - loss: 0.0357 - acc: 0.9909 - val_loss: 0.0123 - val_acc: 1.0000\n"
     ]
    }
   ],
   "source": [
    "history= model.fit(np.array(train_data),\n",
    "         np.array(train_label),\n",
    "         batch_size=30,                                            #fitting our training and testing data\n",
    "         epochs=15,\n",
    "         validation_data=(np.array(test_data), np.array(test_label)))"
   ]
  },
  {
   "cell_type": "markdown",
   "metadata": {},
   "source": [
    "predicting the character..."
   ]
  },
  {
   "cell_type": "code",
   "execution_count": 9,
   "metadata": {},
   "outputs": [
    {
     "data": {
      "image/png": "[encoded data removed]",
      "text/plain": [
       "<matplotlib.figure.Figure at 0x20d3e0d3748>"
      ]
     },
     "metadata": {},
     "output_type": "display_data"
    },
    {
     "name": "stdout",
     "output_type": "stream",
     "text": [
      "[[9.9529922e-01 5.4905860e-04 1.6585393e-03 3.3967334e-04 2.2201805e-04\n",
      "  5.6363986e-04 2.2059785e-04 6.9360198e-05 9.4078845e-05 8.4751466e-04\n",
      "  1.3619794e-04]]\n",
      "[1. 0. 0. 0. 0. 0. 0. 0. 0. 0. 0.]\n"
     ]
    }
   ],
   "source": [
    "plt.imshow(np.array(test_data[0]).reshape(160,160))\n",
    "plt.show()\n",
    "print(model.predict(np.array(test_data[0]).reshape(1,160,160,1)))               #predict the class of letter\n",
    "print(test_label[0])"
   ]
  },
  {
   "cell_type": "markdown",
   "metadata": {},
   "source": [
    "Plotting the loss..."
   ]
  },
  {
   "cell_type": "code",
   "execution_count": 12,
   "metadata": {},
   "outputs": [
    {
     "data": {
      "image/png": "[encoded data removed]",
      "text/plain": [
       "<matplotlib.figure.Figure at 0x20d4292e240>"
      ]
     },
     "metadata": {},
     "output_type": "display_data"
    }
   ],
   "source": [
    "plt.plot(history.history['loss'])\n",
    "plt.show()"
   ]
  },
  {
   "cell_type": "markdown",
   "metadata": {},
   "source": [
    "Saving the model"
   ]
  },
  {
   "cell_type": "code",
   "execution_count": null,
   "metadata": {
    "collapsed": true
   },
   "outputs": [],
   "source": [
    "tf.keras.models.save_model(model,\"path to save the model\")"
   ]
  },
  {
   "cell_type": "markdown",
   "metadata": {},
   "source": [
    "Loading the saved model and use it for prediction"
   ]
  },
  {
   "cell_type": "code",
   "execution_count": 17,
   "metadata": {},
   "outputs": [
    {
     "data": {
      "image/png": "[encoded data removed]",
      "text/plain": [
       "<matplotlib.figure.Figure at 0x20d21cd1b38>"
      ]
     },
     "metadata": {},
     "output_type": "display_data"
    },
    {
     "name": "stdout",
     "output_type": "stream",
     "text": [
      "[[7.1037168e-05 2.6901349e-04 6.6586235e-04 9.9787438e-01 2.1716673e-04\n",
      "  4.0237293e-05 4.8634407e-05 8.3018000e-05 2.5533306e-04 1.4881234e-04\n",
      "  3.2648904e-04]]\n"
     ]
    }
   ],
   "source": [
    "nmodel=tf.keras.models.load_model(\"path where the model is saved\")\n",
    "plt.imshow(test_data[38].reshape(160,160))\n",
    "plt.show()\n",
    "print(nmodel.predict(np.array(test_data[38]).reshape(1,160,160,1)))"
   ]
  },
  {
   "cell_type": "code",
   "execution_count": null,
   "metadata": {
    "collapsed": true
   },
   "outputs": [],
   "source": []
  },
  {
   "cell_type": "code",
   "execution_count": null,
   "metadata": {
    "collapsed": true
   },
   "outputs": [],
   "source": []
  },
  {
   "cell_type": "code",
   "execution_count": null,
   "metadata": {
    "collapsed": true
   },
   "outputs": [],
   "source": []
  },
  {
   "cell_type": "code",
   "execution_count": null,
   "metadata": {
    "collapsed": true
   },
   "outputs": [],
   "source": []
  },
  {
   "cell_type": "code",
   "execution_count": null,
   "metadata": {
    "collapsed": true
   },
   "outputs": [],
   "source": []
  }
 ],
 "metadata": {
  "kernelspec": {
   "display_name": "Python 3",
   "language": "python",
   "name": "python3"
  },
  "language_info": {
   "codemirror_mode": {
    "name": "ipython",
    "version": 3
   },
   "file_extension": ".py",
   "mimetype": "text/x-python",
   "name": "python",
   "nbconvert_exporter": "python",
   "pygments_lexer": "ipython3",
   "version": "3.6.1"
  }
 },
 "nbformat": 4,
 "nbformat_minor": 2
}
